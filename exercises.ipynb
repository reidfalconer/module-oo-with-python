{
 "cells": [
  {
   "cell_type": "markdown",
   "metadata": {
    "ein.tags": "worksheet-0",
    "slideshow": {
     "slide_type": "-"
    }
   },
   "source": [
    "## Implementing K-Nearest Neighbors\n",
    "\n",
    "K-Neareset Neighbors is a simple algorithm you can read about [on Wikiepedia](https://en.wikipedia.org/wiki/K-nearest_neighbors_algorithm). \n",
    "\n",
    "Let's implement two things in Python, to solidify different ways of doing things: \n",
    "\n",
    "1. The K-Nearest Nieghbors algorithm, as a class.\n",
    "2. The K-Nearest Neighbors algorith, as a pure function.\n",
    "\n",
    "This will be simple enough that the usefulness of the difference won't be profound, but I would like you to focus on the difference in implementation itself. "
   ]
  },
  {
   "cell_type": "code",
   "execution_count": 720,
   "metadata": {},
   "outputs": [],
   "source": [
    "import math\n",
    "def euclideanDistance(vec1, vec2, length):\n",
    "    distance = 0\n",
    "    for x in range(length):\n",
    "        distance += pow((vec1[x] - vec2[x]), 2)\n",
    "        return math.sqrt(distance)"
   ]
  },
  {
   "cell_type": "code",
   "execution_count": 721,
   "metadata": {
    "autoscroll": false,
    "ein.hycell": false,
    "ein.tags": "worksheet-0",
    "slideshow": {
     "slide_type": "-"
    }
   },
   "outputs": [],
   "source": [
    "class KNearestNeighbors():\n",
    "    def __init__(self, K):\n",
    "        self.K = K\n",
    "        self.is_fitted = False\n",
    "\n",
    "    def fit(self, train_x, train_y):\n",
    "        self.is_fitted = True\n",
    "        self.train_x = train_x\n",
    "        self.train_y = train_y\n",
    "        \n",
    "    def predict(self, pred_x):\n",
    "        self.pred_x = pred_x\n",
    "        euclideanD = []\n",
    "        for i in range(0,len(self.train_x)):\n",
    "            euclidean_dis = euclideanDistance(self.pred_x, self.train_x[i], len(self.train_y))\n",
    "            euclideanD.append([euclidean_dis, self.train_y[i]])\n",
    "            \n",
    "        preds = [euclideanD, self.train_y]\n",
    "        euclideans = list(sorted(euclideanD)[:self.K])\n",
    "        preds = [item[1] for item in euclideans]\n",
    "        self.prediction = sum(preds)/self.K\n",
    "        return self.prediction\n",
    "    "
   ]
  },
  {
   "cell_type": "code",
   "execution_count": 722,
   "metadata": {},
   "outputs": [],
   "source": [
    "kkn = KNearestNeighbors(3)"
   ]
  },
  {
   "cell_type": "code",
   "execution_count": 723,
   "metadata": {},
   "outputs": [],
   "source": [
    "train_x = [[1,1,1], [0,0,0], [5,5,5]]\n",
    "train_y = [1,0,1]\n",
    "pred_x = [5,5,5]"
   ]
  },
  {
   "cell_type": "code",
   "execution_count": 724,
   "metadata": {},
   "outputs": [],
   "source": [
    "kkn.fit(train_x, train_y)"
   ]
  },
  {
   "cell_type": "code",
   "execution_count": 725,
   "metadata": {},
   "outputs": [
    {
     "data": {
      "text/plain": [
       "0.6666666666666666"
      ]
     },
     "execution_count": 725,
     "metadata": {},
     "output_type": "execute_result"
    }
   ],
   "source": [
    "kkn.predict(pred_x)"
   ]
  },
  {
   "cell_type": "code",
   "execution_count": 726,
   "metadata": {},
   "outputs": [],
   "source": [
    "# Let's test our KNearestNeighbors class: \n",
    "\n",
    "model = KNearestNeighbors(2)\n",
    "model.fit(X,y)\n",
    "\n",
    "assert(model.predict([0,0,0]) == 0.5)\n",
    "assert(model.predict([3,3,3]) == 1.0)"
   ]
  },
  {
   "cell_type": "code",
   "execution_count": 727,
   "metadata": {
    "autoscroll": false,
    "ein.hycell": false,
    "ein.tags": "worksheet-0",
    "slideshow": {
     "slide_type": "-"
    }
   },
   "outputs": [],
   "source": [
    "def knn(K, X, y, new_X):\n",
    "    euclideanD = []\n",
    "    for i in range(0,len(X)):\n",
    "            euclidean_dis = euclideanDistance(new_X, X[i], len(y))\n",
    "            euclideanD.append([euclidean_dis, y[i]])\n",
    "    preds = [euclideanD, y]\n",
    "    euclideans = list(sorted(euclideanD)[:K])\n",
    "    preds = [item[1] for item in euclideans]\n",
    "    prediction = sum(preds)/K\n",
    "    return prediction\n",
    "    "
   ]
  },
  {
   "cell_type": "code",
   "execution_count": 729,
   "metadata": {
    "autoscroll": false,
    "ein.hycell": false,
    "ein.tags": "worksheet-0",
    "slideshow": {
     "slide_type": "-"
    }
   },
   "outputs": [],
   "source": [
    "# Let's test our KNearestNeighbors functions:\n",
    "\n",
    "assert(knn(2, X, y, [0,0,0]) == 0.5)\n",
    "assert(knn(2, X, y, [3,3,3]) == 1.0)"
   ]
  },
  {
   "cell_type": "code",
   "execution_count": null,
   "metadata": {},
   "outputs": [],
   "source": []
  }
 ],
 "metadata": {
  "kernelspec": {
   "display_name": "Python 3",
   "language": "python",
   "name": "python3"
  },
  "language_info": {
   "codemirror_mode": {
    "name": "ipython",
    "version": 3
   },
   "file_extension": ".py",
   "mimetype": "text/x-python",
   "name": "python",
   "nbconvert_exporter": "python",
   "pygments_lexer": "ipython3",
   "version": "3.6.3"
  },
  "name": "Untitled.ipynb"
 },
 "nbformat": 4,
 "nbformat_minor": 2
}
